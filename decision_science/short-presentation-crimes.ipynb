{
 "cells": [
  {
   "cell_type": "code",
   "execution_count": 3,
   "id": "a38df4d5",
   "metadata": {
    "slideshow": {
     "slide_type": "skip"
    }
   },
   "outputs": [],
   "source": [
    "import numpy as np\n",
    "import pandas as pd\n",
    "import matplotlib.pyplot as plt\n",
    "import seaborn as sns"
   ]
  },
  {
   "cell_type": "code",
   "execution_count": 1,
   "id": "cbb04a24",
   "metadata": {
    "slideshow": {
     "slide_type": "skip"
    }
   },
   "outputs": [
    {
     "name": "stdout",
     "output_type": "stream",
     "text": [
      "Shape of the DataFrame: (237221, 9)\n"
     ]
    },
    {
     "data": {
      "text/html": [
       "<div>\n",
       "<style scoped>\n",
       "    .dataframe tbody tr th:only-of-type {\n",
       "        vertical-align: middle;\n",
       "    }\n",
       "\n",
       "    .dataframe tbody tr th {\n",
       "        vertical-align: top;\n",
       "    }\n",
       "\n",
       "    .dataframe thead th {\n",
       "        text-align: right;\n",
       "    }\n",
       "</style>\n",
       "<table border=\"1\" class=\"dataframe\">\n",
       "  <thead>\n",
       "    <tr style=\"text-align: right;\">\n",
       "      <th></th>\n",
       "      <th>INCIDENT_NUMBER</th>\n",
       "      <th>OFFENSE_CODE_GROUP</th>\n",
       "      <th>SHOOTING</th>\n",
       "      <th>OCCURRED_ON_DATE</th>\n",
       "      <th>LAT</th>\n",
       "      <th>LONG</th>\n",
       "      <th>NAME</th>\n",
       "      <th>LAT_POLICE_STATION</th>\n",
       "      <th>LONG_POLICE_STATION</th>\n",
       "    </tr>\n",
       "  </thead>\n",
       "  <tbody>\n",
       "    <tr>\n",
       "      <th>0</th>\n",
       "      <td>I192068249</td>\n",
       "      <td>Other</td>\n",
       "      <td>0</td>\n",
       "      <td>2015-08-28 10:20:00</td>\n",
       "      <td>42.330119</td>\n",
       "      <td>-71.084251</td>\n",
       "      <td>Roxbury</td>\n",
       "      <td>42.328894</td>\n",
       "      <td>-71.085359</td>\n",
       "    </tr>\n",
       "    <tr>\n",
       "      <th>1</th>\n",
       "      <td>I182074094</td>\n",
       "      <td>Violence and harassment</td>\n",
       "      <td>0</td>\n",
       "      <td>2015-09-14 09:31:00</td>\n",
       "      <td>42.315142</td>\n",
       "      <td>-71.067047</td>\n",
       "      <td>Roxbury</td>\n",
       "      <td>42.328894</td>\n",
       "      <td>-71.085359</td>\n",
       "    </tr>\n",
       "    <tr>\n",
       "      <th>2</th>\n",
       "      <td>I182054888</td>\n",
       "      <td>Violence and harassment</td>\n",
       "      <td>0</td>\n",
       "      <td>2015-07-12 15:37:00</td>\n",
       "      <td>42.312243</td>\n",
       "      <td>-71.075499</td>\n",
       "      <td>Roxbury</td>\n",
       "      <td>42.328894</td>\n",
       "      <td>-71.085359</td>\n",
       "    </tr>\n",
       "    <tr>\n",
       "      <th>3</th>\n",
       "      <td>I182054888</td>\n",
       "      <td>Other</td>\n",
       "      <td>0</td>\n",
       "      <td>2015-07-12 15:37:00</td>\n",
       "      <td>42.312243</td>\n",
       "      <td>-71.075499</td>\n",
       "      <td>Roxbury</td>\n",
       "      <td>42.328894</td>\n",
       "      <td>-71.085359</td>\n",
       "    </tr>\n",
       "    <tr>\n",
       "      <th>4</th>\n",
       "      <td>I182054888</td>\n",
       "      <td>Other</td>\n",
       "      <td>0</td>\n",
       "      <td>2015-07-12 15:37:00</td>\n",
       "      <td>42.312243</td>\n",
       "      <td>-71.075499</td>\n",
       "      <td>Roxbury</td>\n",
       "      <td>42.328894</td>\n",
       "      <td>-71.085359</td>\n",
       "    </tr>\n",
       "  </tbody>\n",
       "</table>\n",
       "</div>"
      ],
      "text/plain": [
       "  INCIDENT_NUMBER       OFFENSE_CODE_GROUP  SHOOTING     OCCURRED_ON_DATE  \\\n",
       "0      I192068249                    Other         0  2015-08-28 10:20:00   \n",
       "1      I182074094  Violence and harassment         0  2015-09-14 09:31:00   \n",
       "2      I182054888  Violence and harassment         0  2015-07-12 15:37:00   \n",
       "3      I182054888                    Other         0  2015-07-12 15:37:00   \n",
       "4      I182054888                    Other         0  2015-07-12 15:37:00   \n",
       "\n",
       "         LAT       LONG     NAME  LAT_POLICE_STATION  LONG_POLICE_STATION  \n",
       "0  42.330119 -71.084251  Roxbury           42.328894           -71.085359  \n",
       "1  42.315142 -71.067047  Roxbury           42.328894           -71.085359  \n",
       "2  42.312243 -71.075499  Roxbury           42.328894           -71.085359  \n",
       "3  42.312243 -71.075499  Roxbury           42.328894           -71.085359  \n",
       "4  42.312243 -71.075499  Roxbury           42.328894           -71.085359  "
      ]
     },
     "execution_count": 1,
     "metadata": {},
     "output_type": "execute_result"
    }
   ],
   "source": [
    "# Load the dataset\n",
    "from data import load_data_viz_data\n",
    "\n",
    "data = load_data_viz_data()\n",
    "data[['LAT','LONG']] = data[['LAT','LONG']].astype('float64')\n",
    "\n",
    "print(\"Shape of the DataFrame:\", data.shape)\n",
    "\n",
    "data.head()"
   ]
  },
  {
   "cell_type": "code",
   "execution_count": 4,
   "id": "7d4777d0",
   "metadata": {
    "slideshow": {
     "slide_type": "skip"
    }
   },
   "outputs": [
    {
     "data": {
      "text/html": [
       "<div>\n",
       "<style scoped>\n",
       "    .dataframe tbody tr th:only-of-type {\n",
       "        vertical-align: middle;\n",
       "    }\n",
       "\n",
       "    .dataframe tbody tr th {\n",
       "        vertical-align: top;\n",
       "    }\n",
       "\n",
       "    .dataframe thead th {\n",
       "        text-align: right;\n",
       "    }\n",
       "</style>\n",
       "<table border=\"1\" class=\"dataframe\">\n",
       "  <thead>\n",
       "    <tr style=\"text-align: right;\">\n",
       "      <th></th>\n",
       "      <th>OFFENSE_CODE_GROUP</th>\n",
       "    </tr>\n",
       "    <tr>\n",
       "      <th>NAME</th>\n",
       "      <th></th>\n",
       "    </tr>\n",
       "  </thead>\n",
       "  <tbody>\n",
       "    <tr>\n",
       "      <th>Brighton</th>\n",
       "      <td>Larceny and vandalism</td>\n",
       "    </tr>\n",
       "    <tr>\n",
       "      <th>Charlestown</th>\n",
       "      <td>Larceny and vandalism</td>\n",
       "    </tr>\n",
       "    <tr>\n",
       "      <th>Dorchester</th>\n",
       "      <td>Larceny and vandalism</td>\n",
       "    </tr>\n",
       "    <tr>\n",
       "      <th>Downtown</th>\n",
       "      <td>Larceny and vandalism</td>\n",
       "    </tr>\n",
       "    <tr>\n",
       "      <th>East Boston</th>\n",
       "      <td>Larceny and vandalism</td>\n",
       "    </tr>\n",
       "    <tr>\n",
       "      <th>Hyde Park</th>\n",
       "      <td>Larceny and vandalism</td>\n",
       "    </tr>\n",
       "    <tr>\n",
       "      <th>Jamaica Plain</th>\n",
       "      <td>Larceny and vandalism</td>\n",
       "    </tr>\n",
       "    <tr>\n",
       "      <th>Mattapan</th>\n",
       "      <td>Police investigation procedure</td>\n",
       "    </tr>\n",
       "    <tr>\n",
       "      <th>Roxbury</th>\n",
       "      <td>Larceny and vandalism</td>\n",
       "    </tr>\n",
       "    <tr>\n",
       "      <th>South Boston</th>\n",
       "      <td>Larceny and vandalism</td>\n",
       "    </tr>\n",
       "    <tr>\n",
       "      <th>South End</th>\n",
       "      <td>Larceny and vandalism</td>\n",
       "    </tr>\n",
       "    <tr>\n",
       "      <th>West Roxbury</th>\n",
       "      <td>Larceny and vandalism</td>\n",
       "    </tr>\n",
       "  </tbody>\n",
       "</table>\n",
       "</div>"
      ],
      "text/plain": [
       "                           OFFENSE_CODE_GROUP\n",
       "NAME                                         \n",
       "Brighton                Larceny and vandalism\n",
       "Charlestown             Larceny and vandalism\n",
       "Dorchester              Larceny and vandalism\n",
       "Downtown                Larceny and vandalism\n",
       "East Boston             Larceny and vandalism\n",
       "Hyde Park               Larceny and vandalism\n",
       "Jamaica Plain           Larceny and vandalism\n",
       "Mattapan       Police investigation procedure\n",
       "Roxbury                 Larceny and vandalism\n",
       "South Boston            Larceny and vandalism\n",
       "South End               Larceny and vandalism\n",
       "West Roxbury            Larceny and vandalism"
      ]
     },
     "execution_count": 4,
     "metadata": {},
     "output_type": "execute_result"
    }
   ],
   "source": [
    "data.groupby(['NAME'])['OFFENSE_CODE_GROUP'].agg(pd.Series.mode).to_frame()"
   ]
  },
  {
   "cell_type": "code",
   "execution_count": 5,
   "id": "8e5c0e41",
   "metadata": {
    "slideshow": {
     "slide_type": "skip"
    }
   },
   "outputs": [],
   "source": [
    "# Haversine distance function\n",
    "from math import radians, sin, cos, asin, sqrt\n",
    "\n",
    "def haversine_distance(lon1, lat1, lon2, lat2):\n",
    "    \"\"\"\n",
    "    Compute distance (km) between two pairs of (lat, lng) coordinates\n",
    "    See - (https://en.wikipedia.org/wiki/Haversine_formula)\n",
    "    \"\"\"\n",
    "    \n",
    "    lon1, lat1, lon2, lat2 = map(radians, [lon1, lat1, lon2, lat2])\n",
    "    dlon = lon2 - lon1\n",
    "    dlat = lat2 - lat1\n",
    "    \n",
    "    a = sin(dlat / 2) ** 2 + cos(lat1) * cos(lat2) * sin(dlon / 2) ** 2\n",
    "    \n",
    "    return 2 * 6371 * asin(sqrt(a))"
   ]
  },
  {
   "cell_type": "code",
   "execution_count": 6,
   "id": "69b1a888",
   "metadata": {
    "slideshow": {
     "slide_type": "skip"
    }
   },
   "outputs": [],
   "source": [
    "data['haversine_dist']=''"
   ]
  },
  {
   "cell_type": "code",
   "execution_count": 7,
   "id": "a819176e",
   "metadata": {
    "slideshow": {
     "slide_type": "skip"
    }
   },
   "outputs": [
    {
     "data": {
      "text/html": [
       "<div>\n",
       "<style scoped>\n",
       "    .dataframe tbody tr th:only-of-type {\n",
       "        vertical-align: middle;\n",
       "    }\n",
       "\n",
       "    .dataframe tbody tr th {\n",
       "        vertical-align: top;\n",
       "    }\n",
       "\n",
       "    .dataframe thead th {\n",
       "        text-align: right;\n",
       "    }\n",
       "</style>\n",
       "<table border=\"1\" class=\"dataframe\">\n",
       "  <thead>\n",
       "    <tr style=\"text-align: right;\">\n",
       "      <th></th>\n",
       "      <th>INCIDENT_NUMBER</th>\n",
       "      <th>OFFENSE_CODE_GROUP</th>\n",
       "      <th>SHOOTING</th>\n",
       "      <th>OCCURRED_ON_DATE</th>\n",
       "      <th>LAT</th>\n",
       "      <th>LONG</th>\n",
       "      <th>NAME</th>\n",
       "      <th>LAT_POLICE_STATION</th>\n",
       "      <th>LONG_POLICE_STATION</th>\n",
       "      <th>haversine_dist</th>\n",
       "    </tr>\n",
       "  </thead>\n",
       "  <tbody>\n",
       "    <tr>\n",
       "      <th>0</th>\n",
       "      <td>I192068249</td>\n",
       "      <td>Other</td>\n",
       "      <td>0</td>\n",
       "      <td>2015-08-28 10:20:00</td>\n",
       "      <td>42.330119</td>\n",
       "      <td>-71.084251</td>\n",
       "      <td>Roxbury</td>\n",
       "      <td>42.328894</td>\n",
       "      <td>-71.085359</td>\n",
       "      <td>0.163832</td>\n",
       "    </tr>\n",
       "    <tr>\n",
       "      <th>1</th>\n",
       "      <td>I182074094</td>\n",
       "      <td>Violence and harassment</td>\n",
       "      <td>0</td>\n",
       "      <td>2015-09-14 09:31:00</td>\n",
       "      <td>42.315142</td>\n",
       "      <td>-71.067047</td>\n",
       "      <td>Roxbury</td>\n",
       "      <td>42.328894</td>\n",
       "      <td>-71.085359</td>\n",
       "      <td>2.145919</td>\n",
       "    </tr>\n",
       "    <tr>\n",
       "      <th>2</th>\n",
       "      <td>I182054888</td>\n",
       "      <td>Violence and harassment</td>\n",
       "      <td>0</td>\n",
       "      <td>2015-07-12 15:37:00</td>\n",
       "      <td>42.312243</td>\n",
       "      <td>-71.075499</td>\n",
       "      <td>Roxbury</td>\n",
       "      <td>42.328894</td>\n",
       "      <td>-71.085359</td>\n",
       "      <td>2.021175</td>\n",
       "    </tr>\n",
       "  </tbody>\n",
       "</table>\n",
       "</div>"
      ],
      "text/plain": [
       "  INCIDENT_NUMBER       OFFENSE_CODE_GROUP  SHOOTING     OCCURRED_ON_DATE  \\\n",
       "0      I192068249                    Other         0  2015-08-28 10:20:00   \n",
       "1      I182074094  Violence and harassment         0  2015-09-14 09:31:00   \n",
       "2      I182054888  Violence and harassment         0  2015-07-12 15:37:00   \n",
       "\n",
       "         LAT       LONG     NAME  LAT_POLICE_STATION  LONG_POLICE_STATION  \\\n",
       "0  42.330119 -71.084251  Roxbury           42.328894           -71.085359   \n",
       "1  42.315142 -71.067047  Roxbury           42.328894           -71.085359   \n",
       "2  42.312243 -71.075499  Roxbury           42.328894           -71.085359   \n",
       "\n",
       "  haversine_dist  \n",
       "0       0.163832  \n",
       "1       2.145919  \n",
       "2       2.021175  "
      ]
     },
     "execution_count": 7,
     "metadata": {},
     "output_type": "execute_result"
    }
   ],
   "source": [
    "# calculate haversine distance\n",
    "\n",
    "for i in range(data.shape[0]):\n",
    "    data.loc[i,'haversine_dist']=haversine_distance(data.loc[i,'LONG'],data.loc[i,'LAT'],data.loc[i,'LONG_POLICE_STATION'],data.loc[i,'LAT_POLICE_STATION'])\n",
    "data.head(3)"
   ]
  },
  {
   "cell_type": "code",
   "execution_count": 8,
   "id": "5e475f2f",
   "metadata": {
    "slideshow": {
     "slide_type": "skip"
    }
   },
   "outputs": [],
   "source": [
    "data=data.astype({'haversine_dist': 'float64'})"
   ]
  },
  {
   "cell_type": "code",
   "execution_count": 9,
   "id": "5ba3fa2a",
   "metadata": {
    "slideshow": {
     "slide_type": "skip"
    }
   },
   "outputs": [
    {
     "data": {
      "text/html": [
       "<div>\n",
       "<style scoped>\n",
       "    .dataframe tbody tr th:only-of-type {\n",
       "        vertical-align: middle;\n",
       "    }\n",
       "\n",
       "    .dataframe tbody tr th {\n",
       "        vertical-align: top;\n",
       "    }\n",
       "\n",
       "    .dataframe thead th {\n",
       "        text-align: right;\n",
       "    }\n",
       "</style>\n",
       "<table border=\"1\" class=\"dataframe\">\n",
       "  <thead>\n",
       "    <tr style=\"text-align: right;\">\n",
       "      <th></th>\n",
       "      <th>avr_haversine_dist</th>\n",
       "    </tr>\n",
       "    <tr>\n",
       "      <th>NAME</th>\n",
       "      <th></th>\n",
       "    </tr>\n",
       "  </thead>\n",
       "  <tbody>\n",
       "    <tr>\n",
       "      <th>Brighton</th>\n",
       "      <td>3.770867</td>\n",
       "    </tr>\n",
       "    <tr>\n",
       "      <th>Charlestown</th>\n",
       "      <td>58.758394</td>\n",
       "    </tr>\n",
       "    <tr>\n",
       "      <th>Dorchester</th>\n",
       "      <td>3.174444</td>\n",
       "    </tr>\n",
       "    <tr>\n",
       "      <th>Downtown</th>\n",
       "      <td>6.336657</td>\n",
       "    </tr>\n",
       "    <tr>\n",
       "      <th>East Boston</th>\n",
       "      <td>5.568626</td>\n",
       "    </tr>\n",
       "    <tr>\n",
       "      <th>Hyde Park</th>\n",
       "      <td>2.397613</td>\n",
       "    </tr>\n",
       "    <tr>\n",
       "      <th>Jamaica Plain</th>\n",
       "      <td>2.585737</td>\n",
       "    </tr>\n",
       "    <tr>\n",
       "      <th>Mattapan</th>\n",
       "      <td>1.908636</td>\n",
       "    </tr>\n",
       "    <tr>\n",
       "      <th>Roxbury</th>\n",
       "      <td>2.989029</td>\n",
       "    </tr>\n",
       "    <tr>\n",
       "      <th>South Boston</th>\n",
       "      <td>31.454220</td>\n",
       "    </tr>\n",
       "    <tr>\n",
       "      <th>South End</th>\n",
       "      <td>1.862039</td>\n",
       "    </tr>\n",
       "    <tr>\n",
       "      <th>West Roxbury</th>\n",
       "      <td>18.370045</td>\n",
       "    </tr>\n",
       "  </tbody>\n",
       "</table>\n",
       "</div>"
      ],
      "text/plain": [
       "               avr_haversine_dist\n",
       "NAME                             \n",
       "Brighton                 3.770867\n",
       "Charlestown             58.758394\n",
       "Dorchester               3.174444\n",
       "Downtown                 6.336657\n",
       "East Boston              5.568626\n",
       "Hyde Park                2.397613\n",
       "Jamaica Plain            2.585737\n",
       "Mattapan                 1.908636\n",
       "Roxbury                  2.989029\n",
       "South Boston            31.454220\n",
       "South End                1.862039\n",
       "West Roxbury            18.370045"
      ]
     },
     "execution_count": 9,
     "metadata": {},
     "output_type": "execute_result"
    }
   ],
   "source": [
    "# average distance from crime to police department\n",
    "pdb_ahs=data.groupby(['NAME'])[['haversine_dist']].mean()\n",
    "pdb_ahs.rename(columns={'haversine_dist':'avr_haversine_dist'})"
   ]
  },
  {
   "cell_type": "markdown",
   "id": "d10b27a1",
   "metadata": {
    "slideshow": {
     "slide_type": "skip"
    }
   },
   "source": [
    "prepare 5 slides (including a title slide) \n",
    "- present to the head of the Police Department"
   ]
  },
  {
   "cell_type": "markdown",
   "id": "72008649",
   "metadata": {
    "slideshow": {
     "slide_type": "skip"
    }
   },
   "source": [
    "**must be shared either in HTML or in PDF format and saved in the current directory**"
   ]
  },
  {
   "cell_type": "markdown",
   "id": "2a1f44ec",
   "metadata": {
    "slideshow": {
     "slide_type": "skip"
    }
   },
   "source": [
    "- to prepare your data visualisations, do not hesitate to create a separate, blank notebook;\n",
    "- pay particular attention to the readability and the clarity of your legends, titles, charts and tables;\n",
    "- the Pandas resample method might be useful if you want to plot time trends;\n",
    "- keep in mind that you are working with real data and sometimes, data are not very talkative. \n",
    "- Do not feel discouraged if your charts do not provide revolutionary insights: typically, an absence of trend is a substantial piece of information!"
   ]
  },
  {
   "cell_type": "markdown",
   "id": "b4c19bd9",
   "metadata": {
    "slideshow": {
     "slide_type": "slide"
    }
   },
   "source": [
    "# Characteristics of crimes in the various districts of Boston"
   ]
  },
  {
   "cell_type": "markdown",
   "id": "bf40ae20",
   "metadata": {
    "slideshow": {
     "slide_type": "skip"
    }
   },
   "source": [
    "## General characteristics"
   ]
  },
  {
   "cell_type": "code",
   "execution_count": 14,
   "id": "6cd517a7",
   "metadata": {
    "slideshow": {
     "slide_type": "skip"
    }
   },
   "outputs": [
    {
     "data": {
      "text/html": [
       "<div>\n",
       "<style scoped>\n",
       "    .dataframe tbody tr th:only-of-type {\n",
       "        vertical-align: middle;\n",
       "    }\n",
       "\n",
       "    .dataframe tbody tr th {\n",
       "        vertical-align: top;\n",
       "    }\n",
       "\n",
       "    .dataframe thead th {\n",
       "        text-align: right;\n",
       "    }\n",
       "</style>\n",
       "<table border=\"1\" class=\"dataframe\">\n",
       "  <thead>\n",
       "    <tr style=\"text-align: right;\">\n",
       "      <th></th>\n",
       "      <th>INCIDENT_NUMBER</th>\n",
       "      <th>OFFENSE_CODE_GROUP</th>\n",
       "      <th>SHOOTING</th>\n",
       "      <th>OCCURRED_ON_DATE</th>\n",
       "      <th>LAT</th>\n",
       "      <th>LONG</th>\n",
       "      <th>NAME</th>\n",
       "      <th>LAT_POLICE_STATION</th>\n",
       "      <th>LONG_POLICE_STATION</th>\n",
       "      <th>haversine_dist</th>\n",
       "    </tr>\n",
       "  </thead>\n",
       "  <tbody>\n",
       "    <tr>\n",
       "      <th>0</th>\n",
       "      <td>I192068249</td>\n",
       "      <td>Other</td>\n",
       "      <td>0</td>\n",
       "      <td>2015-08-28 10:20:00</td>\n",
       "      <td>42.330119</td>\n",
       "      <td>-71.084251</td>\n",
       "      <td>Roxbury</td>\n",
       "      <td>42.328894</td>\n",
       "      <td>-71.085359</td>\n",
       "      <td>0.163832</td>\n",
       "    </tr>\n",
       "    <tr>\n",
       "      <th>1</th>\n",
       "      <td>I182074094</td>\n",
       "      <td>Violence and harassment</td>\n",
       "      <td>0</td>\n",
       "      <td>2015-09-14 09:31:00</td>\n",
       "      <td>42.315142</td>\n",
       "      <td>-71.067047</td>\n",
       "      <td>Roxbury</td>\n",
       "      <td>42.328894</td>\n",
       "      <td>-71.085359</td>\n",
       "      <td>2.145919</td>\n",
       "    </tr>\n",
       "    <tr>\n",
       "      <th>2</th>\n",
       "      <td>I182054888</td>\n",
       "      <td>Violence and harassment</td>\n",
       "      <td>0</td>\n",
       "      <td>2015-07-12 15:37:00</td>\n",
       "      <td>42.312243</td>\n",
       "      <td>-71.075499</td>\n",
       "      <td>Roxbury</td>\n",
       "      <td>42.328894</td>\n",
       "      <td>-71.085359</td>\n",
       "      <td>2.021175</td>\n",
       "    </tr>\n",
       "    <tr>\n",
       "      <th>3</th>\n",
       "      <td>I182054888</td>\n",
       "      <td>Other</td>\n",
       "      <td>0</td>\n",
       "      <td>2015-07-12 15:37:00</td>\n",
       "      <td>42.312243</td>\n",
       "      <td>-71.075499</td>\n",
       "      <td>Roxbury</td>\n",
       "      <td>42.328894</td>\n",
       "      <td>-71.085359</td>\n",
       "      <td>2.021175</td>\n",
       "    </tr>\n",
       "    <tr>\n",
       "      <th>4</th>\n",
       "      <td>I182054888</td>\n",
       "      <td>Other</td>\n",
       "      <td>0</td>\n",
       "      <td>2015-07-12 15:37:00</td>\n",
       "      <td>42.312243</td>\n",
       "      <td>-71.075499</td>\n",
       "      <td>Roxbury</td>\n",
       "      <td>42.328894</td>\n",
       "      <td>-71.085359</td>\n",
       "      <td>2.021175</td>\n",
       "    </tr>\n",
       "  </tbody>\n",
       "</table>\n",
       "</div>"
      ],
      "text/plain": [
       "  INCIDENT_NUMBER       OFFENSE_CODE_GROUP  SHOOTING     OCCURRED_ON_DATE  \\\n",
       "0      I192068249                    Other         0  2015-08-28 10:20:00   \n",
       "1      I182074094  Violence and harassment         0  2015-09-14 09:31:00   \n",
       "2      I182054888  Violence and harassment         0  2015-07-12 15:37:00   \n",
       "3      I182054888                    Other         0  2015-07-12 15:37:00   \n",
       "4      I182054888                    Other         0  2015-07-12 15:37:00   \n",
       "\n",
       "         LAT       LONG     NAME  LAT_POLICE_STATION  LONG_POLICE_STATION  \\\n",
       "0  42.330119 -71.084251  Roxbury           42.328894           -71.085359   \n",
       "1  42.315142 -71.067047  Roxbury           42.328894           -71.085359   \n",
       "2  42.312243 -71.075499  Roxbury           42.328894           -71.085359   \n",
       "3  42.312243 -71.075499  Roxbury           42.328894           -71.085359   \n",
       "4  42.312243 -71.075499  Roxbury           42.328894           -71.085359   \n",
       "\n",
       "   haversine_dist  \n",
       "0        0.163832  \n",
       "1        2.145919  \n",
       "2        2.021175  \n",
       "3        2.021175  \n",
       "4        2.021175  "
      ]
     },
     "execution_count": 14,
     "metadata": {},
     "output_type": "execute_result"
    }
   ],
   "source": [
    "data.head()"
   ]
  },
  {
   "cell_type": "code",
   "execution_count": 52,
   "id": "76a6457a",
   "metadata": {
    "slideshow": {
     "slide_type": "skip"
    }
   },
   "outputs": [
    {
     "data": {
      "text/plain": [
       "array(['Other', 'Violence and harassment', 'Fraud and law violations',\n",
       "       'Larceny and vandalism', 'Police investigation procedure',\n",
       "       'Disputes', 'Drugs and disorderly conduct'], dtype=object)"
      ]
     },
     "execution_count": 52,
     "metadata": {},
     "output_type": "execute_result"
    }
   ],
   "source": [
    "data.OFFENSE_CODE_GROUP.unique()"
   ]
  },
  {
   "cell_type": "markdown",
   "id": "8b2fdca0",
   "metadata": {
    "slideshow": {
     "slide_type": "subslide"
    }
   },
   "source": [
    "## Most frequent crime - Larceny and vandalism"
   ]
  },
  {
   "cell_type": "code",
   "execution_count": 115,
   "id": "3ed0d962",
   "metadata": {
    "slideshow": {
     "slide_type": "fragment"
    },
    "tags": [
     "remove_input"
    ]
   },
   "outputs": [
    {
     "data": {
      "image/png": "[encoded data removed]",
      "text/plain": [
       "<Figure size 432x288 with 1 Axes>"
      ]
     },
     "metadata": {
      "needs_background": "light"
     },
     "output_type": "display_data"
    }
   ],
   "source": [
    "data.OFFENSE_CODE_GROUP.value_counts().plot(kind='bar').set_xlabel(\"Types of crime\");"
   ]
  },
  {
   "cell_type": "markdown",
   "id": "8f1cd9bd",
   "metadata": {
    "slideshow": {
     "slide_type": "slide"
    }
   },
   "source": [
    "## Ranking of districts by crime frequency"
   ]
  },
  {
   "cell_type": "code",
   "execution_count": 74,
   "id": "7c5a98af",
   "metadata": {
    "slideshow": {
     "slide_type": "subslide"
    },
    "tags": [
     "remove_input"
    ]
   },
   "outputs": [
    {
     "data": {
      "image/png": "[encoded data removed]",
      "text/plain": [
       "<Figure size 432x288 with 1 Axes>"
      ]
     },
     "metadata": {
      "needs_background": "light"
     },
     "output_type": "display_data"
    }
   ],
   "source": [
    "nb_crimes.plot(kind='bar').set_xlabel('Districts of Boston');"
   ]
  },
  {
   "cell_type": "markdown",
   "id": "f93dee0e",
   "metadata": {
    "slideshow": {
     "slide_type": "fragment"
    }
   },
   "source": [
    "`Roxbury` has the highest rate of crimes, followed by `Dorchester` and `South End`."
   ]
  },
  {
   "cell_type": "code",
   "execution_count": 101,
   "id": "c8ee62d4",
   "metadata": {
    "slideshow": {
     "slide_type": "skip"
    }
   },
   "outputs": [
    {
     "data": {
      "text/html": [
       "<div>\n",
       "<style scoped>\n",
       "    .dataframe tbody tr th:only-of-type {\n",
       "        vertical-align: middle;\n",
       "    }\n",
       "\n",
       "    .dataframe tbody tr th {\n",
       "        vertical-align: top;\n",
       "    }\n",
       "\n",
       "    .dataframe thead th {\n",
       "        text-align: right;\n",
       "    }\n",
       "</style>\n",
       "<table border=\"1\" class=\"dataframe\">\n",
       "  <thead>\n",
       "    <tr style=\"text-align: right;\">\n",
       "      <th></th>\n",
       "      <th>INCIDENT_NUMBER</th>\n",
       "      <th>OFFENSE_CODE_GROUP</th>\n",
       "    </tr>\n",
       "    <tr>\n",
       "      <th>NAME</th>\n",
       "      <th></th>\n",
       "      <th></th>\n",
       "    </tr>\n",
       "  </thead>\n",
       "  <tbody>\n",
       "    <tr>\n",
       "      <th>Brighton</th>\n",
       "      <td>13788</td>\n",
       "      <td>Larceny and vandalism</td>\n",
       "    </tr>\n",
       "    <tr>\n",
       "      <th>Charlestown</th>\n",
       "      <td>4765</td>\n",
       "      <td>Larceny and vandalism</td>\n",
       "    </tr>\n",
       "    <tr>\n",
       "      <th>Dorchester</th>\n",
       "      <td>32875</td>\n",
       "      <td>Larceny and vandalism</td>\n",
       "    </tr>\n",
       "    <tr>\n",
       "      <th>Downtown</th>\n",
       "      <td>26260</td>\n",
       "      <td>Larceny and vandalism</td>\n",
       "    </tr>\n",
       "    <tr>\n",
       "      <th>East Boston</th>\n",
       "      <td>9691</td>\n",
       "      <td>Larceny and vandalism</td>\n",
       "    </tr>\n",
       "    <tr>\n",
       "      <th>Hyde Park</th>\n",
       "      <td>12551</td>\n",
       "      <td>Larceny and vandalism</td>\n",
       "    </tr>\n",
       "    <tr>\n",
       "      <th>Jamaica Plain</th>\n",
       "      <td>12802</td>\n",
       "      <td>Larceny and vandalism</td>\n",
       "    </tr>\n",
       "    <tr>\n",
       "      <th>Mattapan</th>\n",
       "      <td>28331</td>\n",
       "      <td>Police investigation procedure</td>\n",
       "    </tr>\n",
       "    <tr>\n",
       "      <th>Roxbury</th>\n",
       "      <td>38877</td>\n",
       "      <td>Larceny and vandalism</td>\n",
       "    </tr>\n",
       "    <tr>\n",
       "      <th>South Boston</th>\n",
       "      <td>16617</td>\n",
       "      <td>Larceny and vandalism</td>\n",
       "    </tr>\n",
       "    <tr>\n",
       "      <th>South End</th>\n",
       "      <td>31258</td>\n",
       "      <td>Larceny and vandalism</td>\n",
       "    </tr>\n",
       "    <tr>\n",
       "      <th>West Roxbury</th>\n",
       "      <td>9406</td>\n",
       "      <td>Larceny and vandalism</td>\n",
       "    </tr>\n",
       "  </tbody>\n",
       "</table>\n",
       "</div>"
      ],
      "text/plain": [
       "               INCIDENT_NUMBER              OFFENSE_CODE_GROUP\n",
       "NAME                                                          \n",
       "Brighton                 13788           Larceny and vandalism\n",
       "Charlestown               4765           Larceny and vandalism\n",
       "Dorchester               32875           Larceny and vandalism\n",
       "Downtown                 26260           Larceny and vandalism\n",
       "East Boston               9691           Larceny and vandalism\n",
       "Hyde Park                12551           Larceny and vandalism\n",
       "Jamaica Plain            12802           Larceny and vandalism\n",
       "Mattapan                 28331  Police investigation procedure\n",
       "Roxbury                  38877           Larceny and vandalism\n",
       "South Boston             16617           Larceny and vandalism\n",
       "South End                31258           Larceny and vandalism\n",
       "West Roxbury              9406           Larceny and vandalism"
      ]
     },
     "execution_count": 101,
     "metadata": {},
     "output_type": "execute_result"
    }
   ],
   "source": [
    "data.groupby('NAME')[['INCIDENT_NUMBER','OFFENSE_CODE_GROUP']].agg({'INCIDENT_NUMBER':'count','OFFENSE_CODE_GROUP':lambda x:x.value_counts().index[0]})"
   ]
  },
  {
   "cell_type": "markdown",
   "id": "4ede38cb",
   "metadata": {
    "slideshow": {
     "slide_type": "skip"
    }
   },
   "source": [
    "## Number of crimes per district"
   ]
  },
  {
   "cell_type": "code",
   "execution_count": 83,
   "id": "00109fb8",
   "metadata": {
    "slideshow": {
     "slide_type": "skip"
    },
    "tags": [
     "remove_input"
    ]
   },
   "outputs": [
    {
     "data": {
      "text/plain": [
       "Text(0.5, 0, 'Total number of incidents')"
      ]
     },
     "execution_count": 83,
     "metadata": {},
     "output_type": "execute_result"
    },
    {
     "data": {
      "image/png": "[encoded data removed]",
      "text/plain": [
       "<Figure size 432x288 with 1 Axes>"
      ]
     },
     "metadata": {
      "needs_background": "light"
     },
     "output_type": "display_data"
    }
   ],
   "source": [
    "data.groupby('NAME')[['INCIDENT_NUMBER','OFFENSE_CODE_GROUP']].agg({'INCIDENT_NUMBER':'count','OFFENSE_CODE_GROUP':lambda x:x.value_counts().index[0]}).plot(kind='bar').set_xlabel('Total number of incidents')"
   ]
  },
  {
   "cell_type": "code",
   "execution_count": 78,
   "id": "d75df877",
   "metadata": {
    "slideshow": {
     "slide_type": "skip"
    }
   },
   "outputs": [
    {
     "data": {
      "text/html": [
       "<div>\n",
       "<style scoped>\n",
       "    .dataframe tbody tr th:only-of-type {\n",
       "        vertical-align: middle;\n",
       "    }\n",
       "\n",
       "    .dataframe tbody tr th {\n",
       "        vertical-align: top;\n",
       "    }\n",
       "\n",
       "    .dataframe thead th {\n",
       "        text-align: right;\n",
       "    }\n",
       "</style>\n",
       "<table border=\"1\" class=\"dataframe\">\n",
       "  <thead>\n",
       "    <tr style=\"text-align: right;\">\n",
       "      <th></th>\n",
       "      <th>INCIDENT_NUMBER</th>\n",
       "      <th>OFFENSE_CODE_GROUP</th>\n",
       "      <th>SHOOTING</th>\n",
       "      <th>haversine_dist</th>\n",
       "    </tr>\n",
       "    <tr>\n",
       "      <th>NAME</th>\n",
       "      <th></th>\n",
       "      <th></th>\n",
       "      <th></th>\n",
       "      <th></th>\n",
       "    </tr>\n",
       "  </thead>\n",
       "  <tbody>\n",
       "    <tr>\n",
       "      <th>Brighton</th>\n",
       "      <td>13788</td>\n",
       "      <td>Larceny and vandalism</td>\n",
       "      <td>24</td>\n",
       "      <td>3.770867</td>\n",
       "    </tr>\n",
       "    <tr>\n",
       "      <th>Charlestown</th>\n",
       "      <td>4765</td>\n",
       "      <td>Larceny and vandalism</td>\n",
       "      <td>5</td>\n",
       "      <td>58.758394</td>\n",
       "    </tr>\n",
       "    <tr>\n",
       "      <th>Dorchester</th>\n",
       "      <td>32875</td>\n",
       "      <td>Larceny and vandalism</td>\n",
       "      <td>239</td>\n",
       "      <td>3.174444</td>\n",
       "    </tr>\n",
       "    <tr>\n",
       "      <th>Downtown</th>\n",
       "      <td>26260</td>\n",
       "      <td>Larceny and vandalism</td>\n",
       "      <td>19</td>\n",
       "      <td>6.336657</td>\n",
       "    </tr>\n",
       "    <tr>\n",
       "      <th>East Boston</th>\n",
       "      <td>9691</td>\n",
       "      <td>Larceny and vandalism</td>\n",
       "      <td>23</td>\n",
       "      <td>5.568626</td>\n",
       "    </tr>\n",
       "    <tr>\n",
       "      <th>Hyde Park</th>\n",
       "      <td>12551</td>\n",
       "      <td>Larceny and vandalism</td>\n",
       "      <td>40</td>\n",
       "      <td>2.397613</td>\n",
       "    </tr>\n",
       "    <tr>\n",
       "      <th>Jamaica Plain</th>\n",
       "      <td>12802</td>\n",
       "      <td>Larceny and vandalism</td>\n",
       "      <td>86</td>\n",
       "      <td>2.585737</td>\n",
       "    </tr>\n",
       "    <tr>\n",
       "      <th>Mattapan</th>\n",
       "      <td>28331</td>\n",
       "      <td>Police investigation procedure</td>\n",
       "      <td>297</td>\n",
       "      <td>1.908636</td>\n",
       "    </tr>\n",
       "    <tr>\n",
       "      <th>Roxbury</th>\n",
       "      <td>38877</td>\n",
       "      <td>Larceny and vandalism</td>\n",
       "      <td>487</td>\n",
       "      <td>2.989029</td>\n",
       "    </tr>\n",
       "    <tr>\n",
       "      <th>South Boston</th>\n",
       "      <td>16617</td>\n",
       "      <td>Larceny and vandalism</td>\n",
       "      <td>47</td>\n",
       "      <td>31.454220</td>\n",
       "    </tr>\n",
       "    <tr>\n",
       "      <th>South End</th>\n",
       "      <td>31258</td>\n",
       "      <td>Larceny and vandalism</td>\n",
       "      <td>68</td>\n",
       "      <td>1.862039</td>\n",
       "    </tr>\n",
       "    <tr>\n",
       "      <th>West Roxbury</th>\n",
       "      <td>9406</td>\n",
       "      <td>Larceny and vandalism</td>\n",
       "      <td>20</td>\n",
       "      <td>18.370045</td>\n",
       "    </tr>\n",
       "  </tbody>\n",
       "</table>\n",
       "</div>"
      ],
      "text/plain": [
       "               INCIDENT_NUMBER              OFFENSE_CODE_GROUP  SHOOTING  \\\n",
       "NAME                                                                       \n",
       "Brighton                 13788           Larceny and vandalism        24   \n",
       "Charlestown               4765           Larceny and vandalism         5   \n",
       "Dorchester               32875           Larceny and vandalism       239   \n",
       "Downtown                 26260           Larceny and vandalism        19   \n",
       "East Boston               9691           Larceny and vandalism        23   \n",
       "Hyde Park                12551           Larceny and vandalism        40   \n",
       "Jamaica Plain            12802           Larceny and vandalism        86   \n",
       "Mattapan                 28331  Police investigation procedure       297   \n",
       "Roxbury                  38877           Larceny and vandalism       487   \n",
       "South Boston             16617           Larceny and vandalism        47   \n",
       "South End                31258           Larceny and vandalism        68   \n",
       "West Roxbury              9406           Larceny and vandalism        20   \n",
       "\n",
       "               haversine_dist  \n",
       "NAME                           \n",
       "Brighton             3.770867  \n",
       "Charlestown         58.758394  \n",
       "Dorchester           3.174444  \n",
       "Downtown             6.336657  \n",
       "East Boston          5.568626  \n",
       "Hyde Park            2.397613  \n",
       "Jamaica Plain        2.585737  \n",
       "Mattapan             1.908636  \n",
       "Roxbury              2.989029  \n",
       "South Boston        31.454220  \n",
       "South End            1.862039  \n",
       "West Roxbury        18.370045  "
      ]
     },
     "execution_count": 78,
     "metadata": {},
     "output_type": "execute_result"
    }
   ],
   "source": [
    "data.groupby('NAME')[['INCIDENT_NUMBER','OFFENSE_CODE_GROUP','SHOOTING','haversine_dist']].agg({'INCIDENT_NUMBER':'count','OFFENSE_CODE_GROUP':lambda x:x.value_counts().index[0],'SHOOTING':'sum','haversine_dist':'mean'})"
   ]
  },
  {
   "cell_type": "code",
   "execution_count": 60,
   "id": "2e6c2fb0",
   "metadata": {
    "slideshow": {
     "slide_type": "skip"
    }
   },
   "outputs": [
    {
     "data": {
      "text/html": [
       "<div>\n",
       "<style scoped>\n",
       "    .dataframe tbody tr th:only-of-type {\n",
       "        vertical-align: middle;\n",
       "    }\n",
       "\n",
       "    .dataframe tbody tr th {\n",
       "        vertical-align: top;\n",
       "    }\n",
       "\n",
       "    .dataframe thead th {\n",
       "        text-align: right;\n",
       "    }\n",
       "</style>\n",
       "<table border=\"1\" class=\"dataframe\">\n",
       "  <thead>\n",
       "    <tr style=\"text-align: right;\">\n",
       "      <th></th>\n",
       "      <th></th>\n",
       "      <th>OFFENSE_CODE_GROUP</th>\n",
       "    </tr>\n",
       "    <tr>\n",
       "      <th>NAME</th>\n",
       "      <th>OFFENSE_CODE_GROUP</th>\n",
       "      <th></th>\n",
       "    </tr>\n",
       "  </thead>\n",
       "  <tbody>\n",
       "    <tr>\n",
       "      <th rowspan=\"5\" valign=\"top\">Brighton</th>\n",
       "      <th>Disputes</th>\n",
       "      <td>563</td>\n",
       "    </tr>\n",
       "    <tr>\n",
       "      <th>Drugs and disorderly conduct</th>\n",
       "      <td>809</td>\n",
       "    </tr>\n",
       "    <tr>\n",
       "      <th>Fraud and law violations</th>\n",
       "      <td>1807</td>\n",
       "    </tr>\n",
       "    <tr>\n",
       "      <th>Larceny and vandalism</th>\n",
       "      <td>5274</td>\n",
       "    </tr>\n",
       "    <tr>\n",
       "      <th>Other</th>\n",
       "      <td>925</td>\n",
       "    </tr>\n",
       "    <tr>\n",
       "      <th>...</th>\n",
       "      <th>...</th>\n",
       "      <td>...</td>\n",
       "    </tr>\n",
       "    <tr>\n",
       "      <th rowspan=\"5\" valign=\"top\">West Roxbury</th>\n",
       "      <th>Fraud and law violations</th>\n",
       "      <td>1168</td>\n",
       "    </tr>\n",
       "    <tr>\n",
       "      <th>Larceny and vandalism</th>\n",
       "      <td>2915</td>\n",
       "    </tr>\n",
       "    <tr>\n",
       "      <th>Other</th>\n",
       "      <td>880</td>\n",
       "    </tr>\n",
       "    <tr>\n",
       "      <th>Police investigation procedure</th>\n",
       "      <td>2036</td>\n",
       "    </tr>\n",
       "    <tr>\n",
       "      <th>Violence and harassment</th>\n",
       "      <td>1089</td>\n",
       "    </tr>\n",
       "  </tbody>\n",
       "</table>\n",
       "<p>84 rows × 1 columns</p>\n",
       "</div>"
      ],
      "text/plain": [
       "                                             OFFENSE_CODE_GROUP\n",
       "NAME         OFFENSE_CODE_GROUP                                \n",
       "Brighton     Disputes                                       563\n",
       "             Drugs and disorderly conduct                   809\n",
       "             Fraud and law violations                      1807\n",
       "             Larceny and vandalism                         5274\n",
       "             Other                                          925\n",
       "...                                                         ...\n",
       "West Roxbury Fraud and law violations                      1168\n",
       "             Larceny and vandalism                         2915\n",
       "             Other                                          880\n",
       "             Police investigation procedure                2036\n",
       "             Violence and harassment                       1089\n",
       "\n",
       "[84 rows x 1 columns]"
      ]
     },
     "execution_count": 60,
     "metadata": {},
     "output_type": "execute_result"
    }
   ],
   "source": [
    "data.groupby(['NAME','OFFENSE_CODE_GROUP'])[['OFFENSE_CODE_GROUP']].count()"
   ]
  },
  {
   "cell_type": "markdown",
   "id": "2d47b1ec",
   "metadata": {
    "slideshow": {
     "slide_type": "skip"
    }
   },
   "source": [
    "## Number of crimes per district"
   ]
  },
  {
   "cell_type": "code",
   "execution_count": 63,
   "id": "eb7381e8",
   "metadata": {
    "slideshow": {
     "slide_type": "skip"
    }
   },
   "outputs": [
    {
     "data": {
      "text/html": [
       "<div>\n",
       "<style scoped>\n",
       "    .dataframe tbody tr th:only-of-type {\n",
       "        vertical-align: middle;\n",
       "    }\n",
       "\n",
       "    .dataframe tbody tr th {\n",
       "        vertical-align: top;\n",
       "    }\n",
       "\n",
       "    .dataframe thead th {\n",
       "        text-align: right;\n",
       "    }\n",
       "</style>\n",
       "<table border=\"1\" class=\"dataframe\">\n",
       "  <thead>\n",
       "    <tr style=\"text-align: right;\">\n",
       "      <th></th>\n",
       "      <th>INCIDENT_NUMBER</th>\n",
       "    </tr>\n",
       "    <tr>\n",
       "      <th>NAME</th>\n",
       "      <th></th>\n",
       "    </tr>\n",
       "  </thead>\n",
       "  <tbody>\n",
       "    <tr>\n",
       "      <th>Roxbury</th>\n",
       "      <td>38877</td>\n",
       "    </tr>\n",
       "    <tr>\n",
       "      <th>Dorchester</th>\n",
       "      <td>32875</td>\n",
       "    </tr>\n",
       "    <tr>\n",
       "      <th>South End</th>\n",
       "      <td>31258</td>\n",
       "    </tr>\n",
       "    <tr>\n",
       "      <th>Mattapan</th>\n",
       "      <td>28331</td>\n",
       "    </tr>\n",
       "    <tr>\n",
       "      <th>Downtown</th>\n",
       "      <td>26260</td>\n",
       "    </tr>\n",
       "    <tr>\n",
       "      <th>South Boston</th>\n",
       "      <td>16617</td>\n",
       "    </tr>\n",
       "    <tr>\n",
       "      <th>Brighton</th>\n",
       "      <td>13788</td>\n",
       "    </tr>\n",
       "    <tr>\n",
       "      <th>Jamaica Plain</th>\n",
       "      <td>12802</td>\n",
       "    </tr>\n",
       "    <tr>\n",
       "      <th>Hyde Park</th>\n",
       "      <td>12551</td>\n",
       "    </tr>\n",
       "    <tr>\n",
       "      <th>East Boston</th>\n",
       "      <td>9691</td>\n",
       "    </tr>\n",
       "    <tr>\n",
       "      <th>West Roxbury</th>\n",
       "      <td>9406</td>\n",
       "    </tr>\n",
       "    <tr>\n",
       "      <th>Charlestown</th>\n",
       "      <td>4765</td>\n",
       "    </tr>\n",
       "  </tbody>\n",
       "</table>\n",
       "</div>"
      ],
      "text/plain": [
       "               INCIDENT_NUMBER\n",
       "NAME                          \n",
       "Roxbury                  38877\n",
       "Dorchester               32875\n",
       "South End                31258\n",
       "Mattapan                 28331\n",
       "Downtown                 26260\n",
       "South Boston             16617\n",
       "Brighton                 13788\n",
       "Jamaica Plain            12802\n",
       "Hyde Park                12551\n",
       "East Boston               9691\n",
       "West Roxbury              9406\n",
       "Charlestown               4765"
      ]
     },
     "execution_count": 63,
     "metadata": {},
     "output_type": "execute_result"
    }
   ],
   "source": [
    "nb_crimes =data.groupby('NAME')[['INCIDENT_NUMBER']].count().sort_values(by='INCIDENT_NUMBER',ascending=False)\n",
    "nb_crimes"
   ]
  },
  {
   "cell_type": "markdown",
   "id": "b03678b7",
   "metadata": {
    "slideshow": {
     "slide_type": "skip"
    }
   },
   "source": [
    "## Number of offences per crime (and per district)"
   ]
  },
  {
   "cell_type": "code",
   "execution_count": 11,
   "id": "276e687c",
   "metadata": {
    "slideshow": {
     "slide_type": "skip"
    }
   },
   "outputs": [
    {
     "data": {
      "text/html": [
       "<div>\n",
       "<style scoped>\n",
       "    .dataframe tbody tr th:only-of-type {\n",
       "        vertical-align: middle;\n",
       "    }\n",
       "\n",
       "    .dataframe tbody tr th {\n",
       "        vertical-align: top;\n",
       "    }\n",
       "\n",
       "    .dataframe thead th {\n",
       "        text-align: right;\n",
       "    }\n",
       "</style>\n",
       "<table border=\"1\" class=\"dataframe\">\n",
       "  <thead>\n",
       "    <tr style=\"text-align: right;\">\n",
       "      <th></th>\n",
       "      <th>OFFENSE_CODE_GROUP</th>\n",
       "    </tr>\n",
       "    <tr>\n",
       "      <th>INCIDENT_NUMBER</th>\n",
       "      <th></th>\n",
       "    </tr>\n",
       "  </thead>\n",
       "  <tbody>\n",
       "    <tr>\n",
       "      <th>I172053750</th>\n",
       "      <td>18</td>\n",
       "    </tr>\n",
       "    <tr>\n",
       "      <th>I130041200-00</th>\n",
       "      <td>13</td>\n",
       "    </tr>\n",
       "    <tr>\n",
       "      <th>I162030584</th>\n",
       "      <td>13</td>\n",
       "    </tr>\n",
       "    <tr>\n",
       "      <th>I182093742</th>\n",
       "      <td>12</td>\n",
       "    </tr>\n",
       "    <tr>\n",
       "      <th>I162067346</th>\n",
       "      <td>12</td>\n",
       "    </tr>\n",
       "    <tr>\n",
       "      <th>...</th>\n",
       "      <td>...</td>\n",
       "    </tr>\n",
       "    <tr>\n",
       "      <th>I162071638</th>\n",
       "      <td>1</td>\n",
       "    </tr>\n",
       "    <tr>\n",
       "      <th>I162071639</th>\n",
       "      <td>1</td>\n",
       "    </tr>\n",
       "    <tr>\n",
       "      <th>I162071640</th>\n",
       "      <td>1</td>\n",
       "    </tr>\n",
       "    <tr>\n",
       "      <th>I162071642</th>\n",
       "      <td>1</td>\n",
       "    </tr>\n",
       "    <tr>\n",
       "      <th>I192077559</th>\n",
       "      <td>1</td>\n",
       "    </tr>\n",
       "  </tbody>\n",
       "</table>\n",
       "<p>206046 rows × 1 columns</p>\n",
       "</div>"
      ],
      "text/plain": [
       "                 OFFENSE_CODE_GROUP\n",
       "INCIDENT_NUMBER                    \n",
       "I172053750                       18\n",
       "I130041200-00                    13\n",
       "I162030584                       13\n",
       "I182093742                       12\n",
       "I162067346                       12\n",
       "...                             ...\n",
       "I162071638                        1\n",
       "I162071639                        1\n",
       "I162071640                        1\n",
       "I162071642                        1\n",
       "I192077559                        1\n",
       "\n",
       "[206046 rows x 1 columns]"
      ]
     },
     "execution_count": 11,
     "metadata": {},
     "output_type": "execute_result"
    }
   ],
   "source": [
    "# offense cat by incident id\n",
    "data.groupby('INCIDENT_NUMBER')[['OFFENSE_CODE_GROUP']].count().sort_values(by='OFFENSE_CODE_GROUP',ascending=False)"
   ]
  },
  {
   "cell_type": "markdown",
   "id": "53fd3edb",
   "metadata": {
    "slideshow": {
     "slide_type": "slide"
    }
   },
   "source": [
    "## The relation between the distance to police department and crimes"
   ]
  },
  {
   "cell_type": "code",
   "execution_count": 95,
   "id": "819371a4",
   "metadata": {
    "slideshow": {
     "slide_type": "skip"
    }
   },
   "outputs": [
    {
     "data": {
      "text/html": [
       "<div>\n",
       "<style scoped>\n",
       "    .dataframe tbody tr th:only-of-type {\n",
       "        vertical-align: middle;\n",
       "    }\n",
       "\n",
       "    .dataframe tbody tr th {\n",
       "        vertical-align: top;\n",
       "    }\n",
       "\n",
       "    .dataframe thead th {\n",
       "        text-align: right;\n",
       "    }\n",
       "</style>\n",
       "<table border=\"1\" class=\"dataframe\">\n",
       "  <thead>\n",
       "    <tr style=\"text-align: right;\">\n",
       "      <th></th>\n",
       "      <th>SHOOTING</th>\n",
       "      <th>nb_of_crimes</th>\n",
       "      <th>avr_haversine_dist</th>\n",
       "    </tr>\n",
       "    <tr>\n",
       "      <th>NAME</th>\n",
       "      <th></th>\n",
       "      <th></th>\n",
       "      <th></th>\n",
       "    </tr>\n",
       "  </thead>\n",
       "  <tbody>\n",
       "    <tr>\n",
       "      <th>Brighton</th>\n",
       "      <td>24</td>\n",
       "      <td>13788</td>\n",
       "      <td>3.770867</td>\n",
       "    </tr>\n",
       "    <tr>\n",
       "      <th>Charlestown</th>\n",
       "      <td>5</td>\n",
       "      <td>4765</td>\n",
       "      <td>58.758394</td>\n",
       "    </tr>\n",
       "    <tr>\n",
       "      <th>Dorchester</th>\n",
       "      <td>239</td>\n",
       "      <td>32875</td>\n",
       "      <td>3.174444</td>\n",
       "    </tr>\n",
       "    <tr>\n",
       "      <th>Downtown</th>\n",
       "      <td>19</td>\n",
       "      <td>26260</td>\n",
       "      <td>6.336657</td>\n",
       "    </tr>\n",
       "    <tr>\n",
       "      <th>East Boston</th>\n",
       "      <td>23</td>\n",
       "      <td>9691</td>\n",
       "      <td>5.568626</td>\n",
       "    </tr>\n",
       "    <tr>\n",
       "      <th>Hyde Park</th>\n",
       "      <td>40</td>\n",
       "      <td>12551</td>\n",
       "      <td>2.397613</td>\n",
       "    </tr>\n",
       "    <tr>\n",
       "      <th>Jamaica Plain</th>\n",
       "      <td>86</td>\n",
       "      <td>12802</td>\n",
       "      <td>2.585737</td>\n",
       "    </tr>\n",
       "    <tr>\n",
       "      <th>Mattapan</th>\n",
       "      <td>297</td>\n",
       "      <td>28331</td>\n",
       "      <td>1.908636</td>\n",
       "    </tr>\n",
       "    <tr>\n",
       "      <th>Roxbury</th>\n",
       "      <td>487</td>\n",
       "      <td>38877</td>\n",
       "      <td>2.989029</td>\n",
       "    </tr>\n",
       "    <tr>\n",
       "      <th>South Boston</th>\n",
       "      <td>47</td>\n",
       "      <td>16617</td>\n",
       "      <td>31.454220</td>\n",
       "    </tr>\n",
       "    <tr>\n",
       "      <th>South End</th>\n",
       "      <td>68</td>\n",
       "      <td>31258</td>\n",
       "      <td>1.862039</td>\n",
       "    </tr>\n",
       "    <tr>\n",
       "      <th>West Roxbury</th>\n",
       "      <td>20</td>\n",
       "      <td>9406</td>\n",
       "      <td>18.370045</td>\n",
       "    </tr>\n",
       "  </tbody>\n",
       "</table>\n",
       "</div>"
      ],
      "text/plain": [
       "               SHOOTING  nb_of_crimes  avr_haversine_dist\n",
       "NAME                                                     \n",
       "Brighton             24         13788            3.770867\n",
       "Charlestown           5          4765           58.758394\n",
       "Dorchester          239         32875            3.174444\n",
       "Downtown             19         26260            6.336657\n",
       "East Boston          23          9691            5.568626\n",
       "Hyde Park            40         12551            2.397613\n",
       "Jamaica Plain        86         12802            2.585737\n",
       "Mattapan            297         28331            1.908636\n",
       "Roxbury             487         38877            2.989029\n",
       "South Boston         47         16617           31.454220\n",
       "South End            68         31258            1.862039\n",
       "West Roxbury         20          9406           18.370045"
      ]
     },
     "execution_count": 95,
     "metadata": {},
     "output_type": "execute_result"
    }
   ],
   "source": [
    "# YOUR CODE HERE\n",
    "pdb_ahs=data.groupby(['NAME'])[['INCIDENT_NUMBER','SHOOTING','haversine_dist']]\\\n",
    ".agg({'SHOOTING':'sum','INCIDENT_NUMBER':'count','haversine_dist':'mean'})\n",
    "pdb_ahs_renamed=pdb_ahs.rename(columns={'haversine_dist':'avr_haversine_dist','INCIDENT_NUMBER':'nb_of_crimes'})\n",
    "pdb_ahs_renamed"
   ]
  },
  {
   "cell_type": "markdown",
   "id": "0aff30b6",
   "metadata": {
    "slideshow": {
     "slide_type": "subslide"
    }
   },
   "source": [
    "### Total number of crimes"
   ]
  },
  {
   "cell_type": "code",
   "execution_count": 107,
   "id": "4e79d13f",
   "metadata": {
    "slideshow": {
     "slide_type": "subslide"
    },
    "tags": [
     "remove_input"
    ]
   },
   "outputs": [
    {
     "data": {
      "image/png": "[encoded data removed]",
      "text/plain": [
       "<Figure size 432x288 with 1 Axes>"
      ]
     },
     "metadata": {
      "needs_background": "light"
     },
     "output_type": "display_data"
    }
   ],
   "source": [
    "plt.scatter(pdb_ahs_renamed['avr_haversine_dist'], pdb_ahs_renamed['nb_of_crimes'], edgecolor='#333333', alpha=0.75)\n",
    "plt.title('Number of crimes to distance to police department')\n",
    "plt.xlabel('distance')\n",
    "plt.ylabel('number')\n",
    "plt.show()"
   ]
  },
  {
   "cell_type": "markdown",
   "id": "9524aae0",
   "metadata": {
    "slideshow": {
     "slide_type": "fragment"
    }
   },
   "source": [
    "`Weak negative relation` observed between the distance to police department and the total number of crimes."
   ]
  },
  {
   "cell_type": "markdown",
   "id": "269541f5",
   "metadata": {
    "slideshow": {
     "slide_type": "slide"
    }
   },
   "source": [
    "### The relation to number of crimes and shootings?"
   ]
  },
  {
   "cell_type": "code",
   "execution_count": 103,
   "id": "3af8ced4",
   "metadata": {
    "slideshow": {
     "slide_type": "subslide"
    },
    "tags": [
     "remove_input"
    ]
   },
   "outputs": [
    {
     "data": {
      "image/png": "[encoded data removed]",
      "text/plain": [
       "<Figure size 1008x288 with 2 Axes>"
      ]
     },
     "metadata": {
      "needs_background": "light"
     },
     "output_type": "display_data"
    }
   ],
   "source": [
    "plt.figure(figsize=(14, 4))\n",
    "plt.subplot(1, 2, 1)\n",
    "plt.scatter(pdb_ahs_renamed['nb_of_crimes'], pdb_ahs_renamed['SHOOTING'], edgecolor='#333333', alpha=0.75)\n",
    "plt.title('Number of crimes and Shootings')\n",
    "plt.xlabel('distance')\n",
    "plt.ylabel('Shootings')\n",
    "\n",
    "plt.subplot(1, 2, 2)\n",
    "plt.scatter(pdb_ahs_renamed['avr_haversine_dist'], pdb_ahs_renamed['SHOOTING'], edgecolor='#333333', alpha=0.75)\n",
    "plt.title('Number of shootings and the distance to police department')\n",
    "plt.xlabel('distance')\n",
    "plt.ylabel('Shootings')\n",
    "plt.show()"
   ]
  },
  {
   "cell_type": "markdown",
   "id": "f927315e",
   "metadata": {
    "slideshow": {
     "slide_type": "fragment"
    }
   },
   "source": [
    "- We observe that the number of **shootings** increases with the number of **crimes**\n",
    "- The **distance to police department** doesn't show relation with number of **shootings**."
   ]
  },
  {
   "cell_type": "markdown",
   "id": "5a56a6be",
   "metadata": {
    "slideshow": {
     "slide_type": "skip"
    }
   },
   "source": [
    "## Average distance per district"
   ]
  },
  {
   "cell_type": "code",
   "execution_count": 111,
   "id": "6767efaf",
   "metadata": {
    "slideshow": {
     "slide_type": "skip"
    }
   },
   "outputs": [
    {
     "data": {
      "text/html": [
       "<div>\n",
       "<style scoped>\n",
       "    .dataframe tbody tr th:only-of-type {\n",
       "        vertical-align: middle;\n",
       "    }\n",
       "\n",
       "    .dataframe tbody tr th {\n",
       "        vertical-align: top;\n",
       "    }\n",
       "\n",
       "    .dataframe thead th {\n",
       "        text-align: right;\n",
       "    }\n",
       "</style>\n",
       "<table border=\"1\" class=\"dataframe\">\n",
       "  <thead>\n",
       "    <tr style=\"text-align: right;\">\n",
       "      <th></th>\n",
       "      <th>number_of_crimes</th>\n",
       "      <th>average_distance</th>\n",
       "    </tr>\n",
       "    <tr>\n",
       "      <th>NAME</th>\n",
       "      <th></th>\n",
       "      <th></th>\n",
       "    </tr>\n",
       "  </thead>\n",
       "  <tbody>\n",
       "    <tr>\n",
       "      <th>Brighton</th>\n",
       "      <td>13788</td>\n",
       "      <td>3.770867</td>\n",
       "    </tr>\n",
       "    <tr>\n",
       "      <th>Charlestown</th>\n",
       "      <td>4765</td>\n",
       "      <td>58.758394</td>\n",
       "    </tr>\n",
       "    <tr>\n",
       "      <th>Dorchester</th>\n",
       "      <td>32875</td>\n",
       "      <td>3.174444</td>\n",
       "    </tr>\n",
       "    <tr>\n",
       "      <th>Downtown</th>\n",
       "      <td>26260</td>\n",
       "      <td>6.336657</td>\n",
       "    </tr>\n",
       "    <tr>\n",
       "      <th>East Boston</th>\n",
       "      <td>9691</td>\n",
       "      <td>5.568626</td>\n",
       "    </tr>\n",
       "    <tr>\n",
       "      <th>Hyde Park</th>\n",
       "      <td>12551</td>\n",
       "      <td>2.397613</td>\n",
       "    </tr>\n",
       "    <tr>\n",
       "      <th>Jamaica Plain</th>\n",
       "      <td>12802</td>\n",
       "      <td>2.585737</td>\n",
       "    </tr>\n",
       "    <tr>\n",
       "      <th>Mattapan</th>\n",
       "      <td>28331</td>\n",
       "      <td>1.908636</td>\n",
       "    </tr>\n",
       "    <tr>\n",
       "      <th>Roxbury</th>\n",
       "      <td>38877</td>\n",
       "      <td>2.989029</td>\n",
       "    </tr>\n",
       "    <tr>\n",
       "      <th>South Boston</th>\n",
       "      <td>16617</td>\n",
       "      <td>31.454220</td>\n",
       "    </tr>\n",
       "    <tr>\n",
       "      <th>South End</th>\n",
       "      <td>31258</td>\n",
       "      <td>1.862039</td>\n",
       "    </tr>\n",
       "    <tr>\n",
       "      <th>West Roxbury</th>\n",
       "      <td>9406</td>\n",
       "      <td>18.370045</td>\n",
       "    </tr>\n",
       "  </tbody>\n",
       "</table>\n",
       "</div>"
      ],
      "text/plain": [
       "               number_of_crimes  average_distance\n",
       "NAME                                             \n",
       "Brighton                  13788          3.770867\n",
       "Charlestown                4765         58.758394\n",
       "Dorchester                32875          3.174444\n",
       "Downtown                  26260          6.336657\n",
       "East Boston                9691          5.568626\n",
       "Hyde Park                 12551          2.397613\n",
       "Jamaica Plain             12802          2.585737\n",
       "Mattapan                  28331          1.908636\n",
       "Roxbury                   38877          2.989029\n",
       "South Boston              16617         31.454220\n",
       "South End                 31258          1.862039\n",
       "West Roxbury               9406         18.370045"
      ]
     },
     "execution_count": 111,
     "metadata": {},
     "output_type": "execute_result"
    }
   ],
   "source": [
    "# YOUR CODE HERE\n",
    "pdb_ahs=data.groupby(['NAME'])[['INCIDENT_NUMBER','haversine_dist']].agg({'INCIDENT_NUMBER':'count','haversine_dist':'mean'})\n",
    "pdb_ahs_renamed=pdb_ahs.rename(columns={'haversine_dist':'average_distance','INCIDENT_NUMBER':'number_of_crimes'})\n",
    "pdb_ahs_renamed"
   ]
  },
  {
   "cell_type": "markdown",
   "id": "8c032c8b",
   "metadata": {
    "slideshow": {
     "slide_type": "slide"
    }
   },
   "source": [
    "# Conclusion"
   ]
  },
  {
   "cell_type": "markdown",
   "id": "47108c10",
   "metadata": {
    "slideshow": {
     "slide_type": "subslide"
    }
   },
   "source": [
    "The matter needs **more data** to go further with investigation!"
   ]
  },
  {
   "cell_type": "code",
   "execution_count": 113,
   "id": "49ee7cdd",
   "metadata": {
    "slideshow": {
     "slide_type": "subslide"
    },
    "tags": [
     "remove_input"
    ]
   },
   "outputs": [
    {
     "data": {
      "image/png": "[encoded data removed]",
      "text/plain": [
       "<Figure size 432x432 with 3 Axes>"
      ]
     },
     "metadata": {},
     "output_type": "display_data"
    }
   ],
   "source": [
    "with sns.axes_style(\"white\"):\n",
    "    sns.jointplot(x=\"average_distance\", y=\"number_of_crimes\", kind=\"hex\", data=pdb_ahs_renamed)"
   ]
  },
  {
   "cell_type": "markdown",
   "id": "1f4d307c",
   "metadata": {
    "slideshow": {
     "slide_type": "fragment"
    }
   },
   "source": [
    "Thank you for your attention!"
   ]
  },
  {
   "cell_type": "code",
   "execution_count": 104,
   "id": "6fa9e5cf",
   "metadata": {
    "slideshow": {
     "slide_type": "skip"
    }
   },
   "outputs": [
    {
     "data": {
      "text/html": [
       "<div>\n",
       "<style scoped>\n",
       "    .dataframe tbody tr th:only-of-type {\n",
       "        vertical-align: middle;\n",
       "    }\n",
       "\n",
       "    .dataframe tbody tr th {\n",
       "        vertical-align: top;\n",
       "    }\n",
       "\n",
       "    .dataframe thead th {\n",
       "        text-align: right;\n",
       "    }\n",
       "</style>\n",
       "<table border=\"1\" class=\"dataframe\">\n",
       "  <thead>\n",
       "    <tr style=\"text-align: right;\">\n",
       "      <th></th>\n",
       "      <th>INCIDENT_NUMBER</th>\n",
       "      <th>OFFENSE_CODE_GROUP</th>\n",
       "      <th>SHOOTING</th>\n",
       "      <th>OCCURRED_ON_DATE</th>\n",
       "      <th>LAT</th>\n",
       "      <th>LONG</th>\n",
       "      <th>NAME</th>\n",
       "      <th>LAT_POLICE_STATION</th>\n",
       "      <th>LONG_POLICE_STATION</th>\n",
       "      <th>haversine_dist</th>\n",
       "      <th>date_time</th>\n",
       "    </tr>\n",
       "  </thead>\n",
       "  <tbody>\n",
       "    <tr>\n",
       "      <th>0</th>\n",
       "      <td>I192068249</td>\n",
       "      <td>Other</td>\n",
       "      <td>0</td>\n",
       "      <td>2015-08-28 10:20:00</td>\n",
       "      <td>42.330119</td>\n",
       "      <td>-71.084251</td>\n",
       "      <td>Roxbury</td>\n",
       "      <td>42.328894</td>\n",
       "      <td>-71.085359</td>\n",
       "      <td>0.163832</td>\n",
       "      <td>2015-08-28 10:20:00</td>\n",
       "    </tr>\n",
       "    <tr>\n",
       "      <th>1</th>\n",
       "      <td>I182074094</td>\n",
       "      <td>Violence and harassment</td>\n",
       "      <td>0</td>\n",
       "      <td>2015-09-14 09:31:00</td>\n",
       "      <td>42.315142</td>\n",
       "      <td>-71.067047</td>\n",
       "      <td>Roxbury</td>\n",
       "      <td>42.328894</td>\n",
       "      <td>-71.085359</td>\n",
       "      <td>2.145919</td>\n",
       "      <td>2015-09-14 09:31:00</td>\n",
       "    </tr>\n",
       "    <tr>\n",
       "      <th>2</th>\n",
       "      <td>I182054888</td>\n",
       "      <td>Violence and harassment</td>\n",
       "      <td>0</td>\n",
       "      <td>2015-07-12 15:37:00</td>\n",
       "      <td>42.312243</td>\n",
       "      <td>-71.075499</td>\n",
       "      <td>Roxbury</td>\n",
       "      <td>42.328894</td>\n",
       "      <td>-71.085359</td>\n",
       "      <td>2.021175</td>\n",
       "      <td>2015-07-12 15:37:00</td>\n",
       "    </tr>\n",
       "    <tr>\n",
       "      <th>3</th>\n",
       "      <td>I182054888</td>\n",
       "      <td>Other</td>\n",
       "      <td>0</td>\n",
       "      <td>2015-07-12 15:37:00</td>\n",
       "      <td>42.312243</td>\n",
       "      <td>-71.075499</td>\n",
       "      <td>Roxbury</td>\n",
       "      <td>42.328894</td>\n",
       "      <td>-71.085359</td>\n",
       "      <td>2.021175</td>\n",
       "      <td>2015-07-12 15:37:00</td>\n",
       "    </tr>\n",
       "    <tr>\n",
       "      <th>4</th>\n",
       "      <td>I182054888</td>\n",
       "      <td>Other</td>\n",
       "      <td>0</td>\n",
       "      <td>2015-07-12 15:37:00</td>\n",
       "      <td>42.312243</td>\n",
       "      <td>-71.075499</td>\n",
       "      <td>Roxbury</td>\n",
       "      <td>42.328894</td>\n",
       "      <td>-71.085359</td>\n",
       "      <td>2.021175</td>\n",
       "      <td>2015-07-12 15:37:00</td>\n",
       "    </tr>\n",
       "  </tbody>\n",
       "</table>\n",
       "</div>"
      ],
      "text/plain": [
       "  INCIDENT_NUMBER       OFFENSE_CODE_GROUP  SHOOTING     OCCURRED_ON_DATE  \\\n",
       "0      I192068249                    Other         0  2015-08-28 10:20:00   \n",
       "1      I182074094  Violence and harassment         0  2015-09-14 09:31:00   \n",
       "2      I182054888  Violence and harassment         0  2015-07-12 15:37:00   \n",
       "3      I182054888                    Other         0  2015-07-12 15:37:00   \n",
       "4      I182054888                    Other         0  2015-07-12 15:37:00   \n",
       "\n",
       "         LAT       LONG     NAME  LAT_POLICE_STATION  LONG_POLICE_STATION  \\\n",
       "0  42.330119 -71.084251  Roxbury           42.328894           -71.085359   \n",
       "1  42.315142 -71.067047  Roxbury           42.328894           -71.085359   \n",
       "2  42.312243 -71.075499  Roxbury           42.328894           -71.085359   \n",
       "3  42.312243 -71.075499  Roxbury           42.328894           -71.085359   \n",
       "4  42.312243 -71.075499  Roxbury           42.328894           -71.085359   \n",
       "\n",
       "   haversine_dist           date_time  \n",
       "0        0.163832 2015-08-28 10:20:00  \n",
       "1        2.145919 2015-09-14 09:31:00  \n",
       "2        2.021175 2015-07-12 15:37:00  \n",
       "3        2.021175 2015-07-12 15:37:00  \n",
       "4        2.021175 2015-07-12 15:37:00  "
      ]
     },
     "execution_count": 104,
     "metadata": {},
     "output_type": "execute_result"
    }
   ],
   "source": [
    "data.head()"
   ]
  },
  {
   "cell_type": "markdown",
   "id": "680fb1d3",
   "metadata": {
    "slideshow": {
     "slide_type": "skip"
    }
   },
   "source": [
    "## Average time of crime per district"
   ]
  },
  {
   "cell_type": "code",
   "execution_count": 18,
   "id": "cf731e98",
   "metadata": {
    "slideshow": {
     "slide_type": "skip"
    }
   },
   "outputs": [],
   "source": [
    "from datetime import datetime"
   ]
  },
  {
   "cell_type": "code",
   "execution_count": 19,
   "id": "98c01728",
   "metadata": {
    "slideshow": {
     "slide_type": "skip"
    }
   },
   "outputs": [
    {
     "data": {
      "text/plain": [
       "0         2015-08-28 10:20:00\n",
       "1         2015-09-14 09:31:00\n",
       "2         2015-07-12 15:37:00\n",
       "3         2015-07-12 15:37:00\n",
       "4         2015-07-12 15:37:00\n",
       "                 ...         \n",
       "237216    2018-08-09 18:00:00\n",
       "237217    2018-08-09 18:00:00\n",
       "237218    2018-12-12 05:00:00\n",
       "237219    2018-12-12 05:00:00\n",
       "237220    2018-12-12 05:00:00\n",
       "Name: OCCURRED_ON_DATE, Length: 237221, dtype: object"
      ]
     },
     "execution_count": 19,
     "metadata": {},
     "output_type": "execute_result"
    }
   ],
   "source": [
    "data.OCCURRED_ON_DATE"
   ]
  },
  {
   "cell_type": "code",
   "execution_count": 23,
   "id": "1da3c529",
   "metadata": {
    "slideshow": {
     "slide_type": "skip"
    }
   },
   "outputs": [],
   "source": [
    "data['date_time']=pd.to_datetime(data.OCCURRED_ON_DATE, format = '%Y-%m-%d %H:%M:%S')"
   ]
  },
  {
   "cell_type": "code",
   "execution_count": 24,
   "id": "215b24c0",
   "metadata": {
    "slideshow": {
     "slide_type": "skip"
    }
   },
   "outputs": [
    {
     "name": "stdout",
     "output_type": "stream",
     "text": [
      "<class 'pandas.core.frame.DataFrame'>\n",
      "Int64Index: 237221 entries, 0 to 237220\n",
      "Data columns (total 11 columns):\n",
      " #   Column               Non-Null Count   Dtype         \n",
      "---  ------               --------------   -----         \n",
      " 0   INCIDENT_NUMBER      237221 non-null  object        \n",
      " 1   OFFENSE_CODE_GROUP   237221 non-null  object        \n",
      " 2   SHOOTING             237221 non-null  int64         \n",
      " 3   OCCURRED_ON_DATE     237221 non-null  object        \n",
      " 4   LAT                  237221 non-null  float64       \n",
      " 5   LONG                 237221 non-null  float64       \n",
      " 6   NAME                 237221 non-null  object        \n",
      " 7   LAT_POLICE_STATION   237221 non-null  float64       \n",
      " 8   LONG_POLICE_STATION  237221 non-null  float64       \n",
      " 9   haversine_dist       237221 non-null  float64       \n",
      " 10  date_time            237221 non-null  datetime64[ns]\n",
      "dtypes: datetime64[ns](1), float64(5), int64(1), object(4)\n",
      "memory usage: 29.8+ MB\n"
     ]
    }
   ],
   "source": [
    "data.info()"
   ]
  },
  {
   "cell_type": "code",
   "execution_count": 48,
   "id": "79acf460",
   "metadata": {
    "slideshow": {
     "slide_type": "skip"
    }
   },
   "outputs": [
    {
     "data": {
      "text/html": [
       "<div>\n",
       "<style scoped>\n",
       "    .dataframe tbody tr th:only-of-type {\n",
       "        vertical-align: middle;\n",
       "    }\n",
       "\n",
       "    .dataframe tbody tr th {\n",
       "        vertical-align: top;\n",
       "    }\n",
       "\n",
       "    .dataframe thead th {\n",
       "        text-align: right;\n",
       "    }\n",
       "</style>\n",
       "<table border=\"1\" class=\"dataframe\">\n",
       "  <thead>\n",
       "    <tr style=\"text-align: right;\">\n",
       "      <th></th>\n",
       "      <th>INCIDENT_NUMBER</th>\n",
       "      <th>OFFENSE_CODE_GROUP</th>\n",
       "      <th>SHOOTING</th>\n",
       "      <th>OCCURRED_ON_DATE</th>\n",
       "      <th>LAT</th>\n",
       "      <th>LONG</th>\n",
       "      <th>NAME</th>\n",
       "      <th>LAT_POLICE_STATION</th>\n",
       "      <th>LONG_POLICE_STATION</th>\n",
       "      <th>haversine_dist</th>\n",
       "      <th>date_time</th>\n",
       "    </tr>\n",
       "  </thead>\n",
       "  <tbody>\n",
       "    <tr>\n",
       "      <th>0</th>\n",
       "      <td>I192068249</td>\n",
       "      <td>Other</td>\n",
       "      <td>0</td>\n",
       "      <td>2015-08-28 10:20:00</td>\n",
       "      <td>42.330119</td>\n",
       "      <td>-71.084251</td>\n",
       "      <td>Roxbury</td>\n",
       "      <td>42.328894</td>\n",
       "      <td>-71.085359</td>\n",
       "      <td>0.163832</td>\n",
       "      <td>2015-08-28 10:20:00</td>\n",
       "    </tr>\n",
       "    <tr>\n",
       "      <th>1</th>\n",
       "      <td>I182074094</td>\n",
       "      <td>Violence and harassment</td>\n",
       "      <td>0</td>\n",
       "      <td>2015-09-14 09:31:00</td>\n",
       "      <td>42.315142</td>\n",
       "      <td>-71.067047</td>\n",
       "      <td>Roxbury</td>\n",
       "      <td>42.328894</td>\n",
       "      <td>-71.085359</td>\n",
       "      <td>2.145919</td>\n",
       "      <td>2015-09-14 09:31:00</td>\n",
       "    </tr>\n",
       "    <tr>\n",
       "      <th>2</th>\n",
       "      <td>I182054888</td>\n",
       "      <td>Violence and harassment</td>\n",
       "      <td>0</td>\n",
       "      <td>2015-07-12 15:37:00</td>\n",
       "      <td>42.312243</td>\n",
       "      <td>-71.075499</td>\n",
       "      <td>Roxbury</td>\n",
       "      <td>42.328894</td>\n",
       "      <td>-71.085359</td>\n",
       "      <td>2.021175</td>\n",
       "      <td>2015-07-12 15:37:00</td>\n",
       "    </tr>\n",
       "    <tr>\n",
       "      <th>3</th>\n",
       "      <td>I182054888</td>\n",
       "      <td>Other</td>\n",
       "      <td>0</td>\n",
       "      <td>2015-07-12 15:37:00</td>\n",
       "      <td>42.312243</td>\n",
       "      <td>-71.075499</td>\n",
       "      <td>Roxbury</td>\n",
       "      <td>42.328894</td>\n",
       "      <td>-71.085359</td>\n",
       "      <td>2.021175</td>\n",
       "      <td>2015-07-12 15:37:00</td>\n",
       "    </tr>\n",
       "    <tr>\n",
       "      <th>4</th>\n",
       "      <td>I182054888</td>\n",
       "      <td>Other</td>\n",
       "      <td>0</td>\n",
       "      <td>2015-07-12 15:37:00</td>\n",
       "      <td>42.312243</td>\n",
       "      <td>-71.075499</td>\n",
       "      <td>Roxbury</td>\n",
       "      <td>42.328894</td>\n",
       "      <td>-71.085359</td>\n",
       "      <td>2.021175</td>\n",
       "      <td>2015-07-12 15:37:00</td>\n",
       "    </tr>\n",
       "  </tbody>\n",
       "</table>\n",
       "</div>"
      ],
      "text/plain": [
       "  INCIDENT_NUMBER       OFFENSE_CODE_GROUP  SHOOTING     OCCURRED_ON_DATE  \\\n",
       "0      I192068249                    Other         0  2015-08-28 10:20:00   \n",
       "1      I182074094  Violence and harassment         0  2015-09-14 09:31:00   \n",
       "2      I182054888  Violence and harassment         0  2015-07-12 15:37:00   \n",
       "3      I182054888                    Other         0  2015-07-12 15:37:00   \n",
       "4      I182054888                    Other         0  2015-07-12 15:37:00   \n",
       "\n",
       "         LAT       LONG     NAME  LAT_POLICE_STATION  LONG_POLICE_STATION  \\\n",
       "0  42.330119 -71.084251  Roxbury           42.328894           -71.085359   \n",
       "1  42.315142 -71.067047  Roxbury           42.328894           -71.085359   \n",
       "2  42.312243 -71.075499  Roxbury           42.328894           -71.085359   \n",
       "3  42.312243 -71.075499  Roxbury           42.328894           -71.085359   \n",
       "4  42.312243 -71.075499  Roxbury           42.328894           -71.085359   \n",
       "\n",
       "   haversine_dist           date_time  \n",
       "0        0.163832 2015-08-28 10:20:00  \n",
       "1        2.145919 2015-09-14 09:31:00  \n",
       "2        2.021175 2015-07-12 15:37:00  \n",
       "3        2.021175 2015-07-12 15:37:00  \n",
       "4        2.021175 2015-07-12 15:37:00  "
      ]
     },
     "execution_count": 48,
     "metadata": {},
     "output_type": "execute_result"
    }
   ],
   "source": [
    "data.head()"
   ]
  },
  {
   "cell_type": "code",
   "execution_count": 50,
   "id": "df6e28fe",
   "metadata": {
    "slideshow": {
     "slide_type": "skip"
    }
   },
   "outputs": [
    {
     "data": {
      "text/html": [
       "<div>\n",
       "<style scoped>\n",
       "    .dataframe tbody tr th:only-of-type {\n",
       "        vertical-align: middle;\n",
       "    }\n",
       "\n",
       "    .dataframe tbody tr th {\n",
       "        vertical-align: top;\n",
       "    }\n",
       "\n",
       "    .dataframe thead th {\n",
       "        text-align: right;\n",
       "    }\n",
       "</style>\n",
       "<table border=\"1\" class=\"dataframe\">\n",
       "  <thead>\n",
       "    <tr style=\"text-align: right;\">\n",
       "      <th></th>\n",
       "      <th>date_time</th>\n",
       "    </tr>\n",
       "    <tr>\n",
       "      <th>NAME</th>\n",
       "      <th></th>\n",
       "    </tr>\n",
       "  </thead>\n",
       "  <tbody>\n",
       "    <tr>\n",
       "      <th>Brighton</th>\n",
       "      <td>2015-09-27 20:29:00</td>\n",
       "    </tr>\n",
       "    <tr>\n",
       "      <th>Charlestown</th>\n",
       "      <td>2016-08-22 10:25:00</td>\n",
       "    </tr>\n",
       "    <tr>\n",
       "      <th>Dorchester</th>\n",
       "      <td>2016-04-20 11:07:00</td>\n",
       "    </tr>\n",
       "    <tr>\n",
       "      <th>Downtown</th>\n",
       "      <td>2015-06-16 15:55:00</td>\n",
       "    </tr>\n",
       "    <tr>\n",
       "      <th>East Boston</th>\n",
       "      <td>2017-06-26 14:50:00</td>\n",
       "    </tr>\n",
       "    <tr>\n",
       "      <th>Hyde Park</th>\n",
       "      <td>2018-06-04 12:40:00</td>\n",
       "    </tr>\n",
       "    <tr>\n",
       "      <th>Jamaica Plain</th>\n",
       "      <td>2015-09-25 18:30:00</td>\n",
       "    </tr>\n",
       "    <tr>\n",
       "      <th>Mattapan</th>\n",
       "      <td>2015-12-07 11:38:00</td>\n",
       "    </tr>\n",
       "    <tr>\n",
       "      <th>Roxbury</th>\n",
       "      <td>2015-10-02 21:00:00</td>\n",
       "    </tr>\n",
       "    <tr>\n",
       "      <th>South Boston</th>\n",
       "      <td>2016-12-02 01:30:00</td>\n",
       "    </tr>\n",
       "    <tr>\n",
       "      <th>South End</th>\n",
       "      <td>2017-12-20 02:15:00</td>\n",
       "    </tr>\n",
       "    <tr>\n",
       "      <th>West Roxbury</th>\n",
       "      <td>2015-07-10 10:15:00</td>\n",
       "    </tr>\n",
       "  </tbody>\n",
       "</table>\n",
       "</div>"
      ],
      "text/plain": [
       "                        date_time\n",
       "NAME                             \n",
       "Brighton      2015-09-27 20:29:00\n",
       "Charlestown   2016-08-22 10:25:00\n",
       "Dorchester    2016-04-20 11:07:00\n",
       "Downtown      2015-06-16 15:55:00\n",
       "East Boston   2017-06-26 14:50:00\n",
       "Hyde Park     2018-06-04 12:40:00\n",
       "Jamaica Plain 2015-09-25 18:30:00\n",
       "Mattapan      2015-12-07 11:38:00\n",
       "Roxbury       2015-10-02 21:00:00\n",
       "South Boston  2016-12-02 01:30:00\n",
       "South End     2017-12-20 02:15:00\n",
       "West Roxbury  2015-07-10 10:15:00"
      ]
     },
     "execution_count": 50,
     "metadata": {},
     "output_type": "execute_result"
    }
   ],
   "source": [
    "data.groupby('NAME')[['date_time']].agg(lambda x:x.value_counts().index[0])"
   ]
  },
  {
   "cell_type": "code",
   "execution_count": null,
   "id": "acb30a7d",
   "metadata": {
    "slideshow": {
     "slide_type": "skip"
    }
   },
   "outputs": [],
   "source": []
  }
 ],
 "metadata": {
  "celltoolbar": "Diaporama",
  "kernelspec": {
   "display_name": "Python 3",
   "language": "python",
   "name": "python3"
  },
  "language_info": {
   "codemirror_mode": {
    "name": "ipython",
    "version": 3
   },
   "file_extension": ".py",
   "mimetype": "text/x-python",
   "name": "python",
   "nbconvert_exporter": "python",
   "pygments_lexer": "ipython3",
   "version": "3.8.6"
  },
  "toc": {
   "base_numbering": 1,
   "nav_menu": {},
   "number_sections": true,
   "sideBar": true,
   "skip_h1_title": false,
   "title_cell": "Table of Contents",
   "title_sidebar": "Contents",
   "toc_cell": false,
   "toc_position": {
    "height": "calc(100% - 180px)",
    "left": "10px",
    "top": "150px",
    "width": "165px"
   },
   "toc_section_display": true,
   "toc_window_display": true
  }
 },
 "nbformat": 4,
 "nbformat_minor": 5
}
